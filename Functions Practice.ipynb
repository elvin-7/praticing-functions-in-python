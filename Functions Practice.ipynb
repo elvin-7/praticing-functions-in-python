{
 "cells": [
  {
   "cell_type": "markdown",
   "id": "0b331d8f",
   "metadata": {},
   "source": [
    "1. Write a Python function to find the maximum of three numbers."
   ]
  },
  {
   "cell_type": "code",
   "execution_count": 1,
   "id": "1746938f",
   "metadata": {},
   "outputs": [],
   "source": [
    "def max_of_three(a,b,c):\n",
    "    return max(a,b,c)"
   ]
  },
  {
   "cell_type": "code",
   "execution_count": 2,
   "id": "dc9bba97",
   "metadata": {},
   "outputs": [
    {
     "data": {
      "text/plain": [
       "170"
      ]
     },
     "execution_count": 2,
     "metadata": {},
     "output_type": "execute_result"
    }
   ],
   "source": [
    "max_of_three(170,89,45)"
   ]
  },
  {
   "cell_type": "markdown",
   "id": "6be94b5c",
   "metadata": {},
   "source": [
    "2. Write a  Python function to sum all the numbers in a list.\n",
    "\n",
    "Sample List : (8, 2, 3, 0, 7)\n"
   ]
  },
  {
   "cell_type": "code",
   "execution_count": 6,
   "id": "b3662b51",
   "metadata": {},
   "outputs": [],
   "source": [
    "def sum_list(list):\n",
    "    \n",
    "    total = 0\n",
    "    for x in list:\n",
    "        total = total + x\n",
    "    return total"
   ]
  },
  {
   "cell_type": "code",
   "execution_count": 12,
   "id": "e554fb29",
   "metadata": {},
   "outputs": [
    {
     "data": {
      "text/plain": [
       "20"
      ]
     },
     "execution_count": 12,
     "metadata": {},
     "output_type": "execute_result"
    }
   ],
   "source": [
    "sum_list((8,2,3,0,7))"
   ]
  },
  {
   "cell_type": "code",
   "execution_count": 13,
   "id": "6e163b2e",
   "metadata": {},
   "outputs": [
    {
     "data": {
      "text/plain": [
       "20"
      ]
     },
     "execution_count": 13,
     "metadata": {},
     "output_type": "execute_result"
    }
   ],
   "source": [
    "sum((8,2,3,0,7))"
   ]
  },
  {
   "cell_type": "markdown",
   "id": "ccd76e3d",
   "metadata": {},
   "source": [
    "3. Write a Python function to multiply all the numbers in a list.\n",
    "\n",
    "Sample List : (8, 2, 3, -1, 7)"
   ]
  },
  {
   "cell_type": "code",
   "execution_count": 14,
   "id": "af7ae284",
   "metadata": {},
   "outputs": [],
   "source": [
    "def multiply(i):\n",
    "    total = 1\n",
    "    for x in i:\n",
    "        total = total * x\n",
    "    return total"
   ]
  },
  {
   "cell_type": "code",
   "execution_count": 17,
   "id": "fd97186f",
   "metadata": {},
   "outputs": [
    {
     "data": {
      "text/plain": [
       "-336"
      ]
     },
     "execution_count": 17,
     "metadata": {},
     "output_type": "execute_result"
    }
   ],
   "source": [
    "multiply((8,2,3,-1,7))"
   ]
  },
  {
   "cell_type": "code",
   "execution_count": null,
   "id": "1b87440d",
   "metadata": {},
   "outputs": [],
   "source": []
  }
 ],
 "metadata": {
  "kernelspec": {
   "display_name": "Python 3 (ipykernel)",
   "language": "python",
   "name": "python3"
  },
  "language_info": {
   "codemirror_mode": {
    "name": "ipython",
    "version": 3
   },
   "file_extension": ".py",
   "mimetype": "text/x-python",
   "name": "python",
   "nbconvert_exporter": "python",
   "pygments_lexer": "ipython3",
   "version": "3.9.7"
  }
 },
 "nbformat": 4,
 "nbformat_minor": 5
}
